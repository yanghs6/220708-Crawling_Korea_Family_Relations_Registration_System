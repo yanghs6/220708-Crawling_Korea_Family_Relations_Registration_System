{
 "cells": [
  {
   "cell_type": "code",
   "execution_count": 1,
   "metadata": {},
   "outputs": [],
   "source": [
    "from selenium.webdriver.common.by import By\n",
    "from bs4 import BeautifulSoup as Soup\n",
    "from selenium import webdriver\n",
    "\n",
    "import tqdm.notebook\n",
    "import pandas as pd\n",
    "\n",
    "import time\n",
    "import os"
   ]
  },
  {
   "cell_type": "markdown",
   "metadata": {},
   "source": [
    "---"
   ]
  },
  {
   "cell_type": "markdown",
   "metadata": {},
   "source": [
    "### 상위 출생신고 이름 현황"
   ]
  },
  {
   "cell_type": "code",
   "execution_count": 24,
   "metadata": {},
   "outputs": [
    {
     "data": {
      "application/vnd.jupyter.widget-view+json": {
       "model_id": "27a75daa05b54878b6b34844eae9f88b",
       "version_major": 2,
       "version_minor": 0
      },
      "text/plain": [
       "연도별:   0%|          | 0/15 [00:00<?, ?it/s]"
      ]
     },
     "metadata": {},
     "output_type": "display_data"
    },
    {
     "data": {
      "application/vnd.jupyter.widget-view+json": {
       "model_id": "5c75cf52cfb3494d9c727e9508e640d8",
       "version_major": 2,
       "version_minor": 0
      },
      "text/plain": [
       "시도별:   0%|          | 0/17 [00:00<?, ?it/s]"
      ]
     },
     "metadata": {},
     "output_type": "display_data"
    },
    {
     "data": {
      "application/vnd.jupyter.widget-view+json": {
       "model_id": "640c5e8c9352435990736154e468d98f",
       "version_major": 2,
       "version_minor": 0
      },
      "text/plain": [
       "시도별:   0%|          | 0/17 [00:00<?, ?it/s]"
      ]
     },
     "metadata": {},
     "output_type": "display_data"
    },
    {
     "data": {
      "application/vnd.jupyter.widget-view+json": {
       "model_id": "eea1013166644e18947353357e766e1b",
       "version_major": 2,
       "version_minor": 0
      },
      "text/plain": [
       "시도별:   0%|          | 0/17 [00:00<?, ?it/s]"
      ]
     },
     "metadata": {},
     "output_type": "display_data"
    },
    {
     "data": {
      "application/vnd.jupyter.widget-view+json": {
       "model_id": "c046d16b900f4aaa98d9de00c7e42092",
       "version_major": 2,
       "version_minor": 0
      },
      "text/plain": [
       "시도별:   0%|          | 0/17 [00:00<?, ?it/s]"
      ]
     },
     "metadata": {},
     "output_type": "display_data"
    },
    {
     "data": {
      "application/vnd.jupyter.widget-view+json": {
       "model_id": "38efc8ee8a2d47edac2addca4365ea10",
       "version_major": 2,
       "version_minor": 0
      },
      "text/plain": [
       "시도별:   0%|          | 0/17 [00:00<?, ?it/s]"
      ]
     },
     "metadata": {},
     "output_type": "display_data"
    },
    {
     "data": {
      "application/vnd.jupyter.widget-view+json": {
       "model_id": "8c40759afe4b43529b0d9d43b119a8a7",
       "version_major": 2,
       "version_minor": 0
      },
      "text/plain": [
       "시도별:   0%|          | 0/17 [00:00<?, ?it/s]"
      ]
     },
     "metadata": {},
     "output_type": "display_data"
    },
    {
     "data": {
      "application/vnd.jupyter.widget-view+json": {
       "model_id": "ce940e07f65c4b8ea814adcb47544075",
       "version_major": 2,
       "version_minor": 0
      },
      "text/plain": [
       "시도별:   0%|          | 0/17 [00:00<?, ?it/s]"
      ]
     },
     "metadata": {},
     "output_type": "display_data"
    },
    {
     "data": {
      "application/vnd.jupyter.widget-view+json": {
       "model_id": "b8fa863e044546e5a42609e4460e3211",
       "version_major": 2,
       "version_minor": 0
      },
      "text/plain": [
       "시도별:   0%|          | 0/17 [00:00<?, ?it/s]"
      ]
     },
     "metadata": {},
     "output_type": "display_data"
    },
    {
     "data": {
      "application/vnd.jupyter.widget-view+json": {
       "model_id": "fa398f8d9c4e474485f4dd6570819865",
       "version_major": 2,
       "version_minor": 0
      },
      "text/plain": [
       "시도별:   0%|          | 0/17 [00:00<?, ?it/s]"
      ]
     },
     "metadata": {},
     "output_type": "display_data"
    },
    {
     "data": {
      "application/vnd.jupyter.widget-view+json": {
       "model_id": "a65e2156f52745de9169131383900238",
       "version_major": 2,
       "version_minor": 0
      },
      "text/plain": [
       "시도별:   0%|          | 0/17 [00:00<?, ?it/s]"
      ]
     },
     "metadata": {},
     "output_type": "display_data"
    },
    {
     "data": {
      "application/vnd.jupyter.widget-view+json": {
       "model_id": "dba9cff40a9e4759a4d0fc34449c2b04",
       "version_major": 2,
       "version_minor": 0
      },
      "text/plain": [
       "시도별:   0%|          | 0/17 [00:00<?, ?it/s]"
      ]
     },
     "metadata": {},
     "output_type": "display_data"
    },
    {
     "data": {
      "application/vnd.jupyter.widget-view+json": {
       "model_id": "232b80501c244983a59e1c8326f57db0",
       "version_major": 2,
       "version_minor": 0
      },
      "text/plain": [
       "시도별:   0%|          | 0/17 [00:00<?, ?it/s]"
      ]
     },
     "metadata": {},
     "output_type": "display_data"
    },
    {
     "data": {
      "application/vnd.jupyter.widget-view+json": {
       "model_id": "85cfdedb0ad94afb9cdad3c3cbbc6e67",
       "version_major": 2,
       "version_minor": 0
      },
      "text/plain": [
       "시도별:   0%|          | 0/17 [00:00<?, ?it/s]"
      ]
     },
     "metadata": {},
     "output_type": "display_data"
    },
    {
     "data": {
      "application/vnd.jupyter.widget-view+json": {
       "model_id": "d0af059846bc41bb81d0eaa30c61b74b",
       "version_major": 2,
       "version_minor": 0
      },
      "text/plain": [
       "시도별:   0%|          | 0/17 [00:00<?, ?it/s]"
      ]
     },
     "metadata": {},
     "output_type": "display_data"
    },
    {
     "data": {
      "application/vnd.jupyter.widget-view+json": {
       "model_id": "9645c924d34345a59e70d7ef26916dc9",
       "version_major": 2,
       "version_minor": 0
      },
      "text/plain": [
       "시도별:   0%|          | 0/17 [00:00<?, ?it/s]"
      ]
     },
     "metadata": {},
     "output_type": "display_data"
    }
   ],
   "source": [
    "# URL 및 옵션 설정\n",
    "url = \"https://stfamily.scourt.go.kr/st/StFrrStatcsView.do?pgmId=090000000025\"\n",
    "options = webdriver.ChromeOptions()\n",
    "options.add_argument('headless')\n",
    "\n",
    "driver = webdriver.Chrome(\"chromedriver.exe\", options=options)\n",
    "\n",
    "# 화면 진입\n",
    "driver.get(url)\n",
    "time.sleep(3)\n",
    "\n",
    "# iframe 탐색 및 이동\n",
    "iframe = driver.find_element(By.XPATH, '//*[@id=\"content\"]/div[2]/iframe')\n",
    "driver.switch_to.frame(iframe)\n",
    "\n",
    "# 조회유형 설정\n",
    "opt_kind = driver.find_element(By.XPATH, '//*[@id=\"param_MultiCandType_selector\"]/div/table/tbody/tr/td[2]')\n",
    "opt_kind.click()\n",
    "opt_kind_year = driver.find_element(By.XPATH, '//*[@id=\"param_MultiCandType_selector_elem_RowTR\"]')\n",
    "opt_kind_year.click()\n",
    "time.sleep(1)\n",
    "\n",
    "# 시작연도, 종료연도 설정\n",
    "opt_start_year = driver.find_element(By.XPATH, '//*[@id=\"param_MultiCandType_styear\"]/div/table/tbody/tr/td[2]/span')\n",
    "opt_end_year = driver.find_element(By.XPATH, '//*[@id=\"param_MultiCandType_edyear\"]/div/table/tbody/tr/td[2]/span')\n",
    "\n",
    "# 연도 설정. start_year 변수를 통해 시작할 연도 변경 가능\n",
    "year = 2023\n",
    "start_year = 2022\n",
    "\n",
    "# 저장할 폴더 생성\n",
    "path_data_dir = \"data\"\n",
    "\n",
    "if os.path.isdir(path_data_dir) == False:\n",
    "    os.mkdir(path_data_dir)\n",
    "\n",
    "\n",
    "try:\n",
    "    for i in tqdm.notebook.trange(1, 2022-2008+2, desc='연도별'):\n",
    "        # 연도 저장한 데이터프레임\n",
    "        df_result = pd.DataFrame()\n",
    "\n",
    "        # 현재연도 변경\n",
    "        year -= 1\n",
    "        \n",
    "        # 시작연도 선택\n",
    "        opt_start_year.click()\n",
    "        time.sleep(2)\n",
    "        ele_start_year = driver.find_elements(By.XPATH, '//*[@id=\"param_MultiCandType_styear_elem_RowTR\"]')[-i]\n",
    "        ele_start_year.click()\n",
    "        \n",
    "        # 종료연도 선택\n",
    "        opt_end_year.click()\n",
    "        time.sleep(2)\n",
    "        ele_end_year = driver.find_elements(By.XPATH, '//*[@id=\"param_MultiCandType_edyear_elem_RowTR\"]')[-i]\n",
    "        ele_end_year.click()\n",
    "\n",
    "        # 시작연도까지 이동하기\n",
    "        if year > start_year:\n",
    "            continue\n",
    "\n",
    "        # 성별 설정\n",
    "        opt_gender = driver.find_element(By.XPATH, '//*[@id=\"param_GenderCd\"]/div/table/tbody/tr/td[2]/span')\n",
    "        opt_gender.click()\n",
    "        time.sleep(2)\n",
    "        ele_gender = driver.find_element(By.XPATH, '/html/body').find_elements(By.XPATH, '*')[-1].find_element(By.XPATH, 'div[2]/div/table/tbody/tr[3]/td[1]/input')\n",
    "        ele_gender.click()\n",
    "\n",
    "        # 시도 옵션 클릭\n",
    "        opt_sido = driver.find_element(By.XPATH, '//*[@id=\"param_SidoCd\"]/div/table/tbody/tr/td[2]/span')\n",
    "        opt_sido.click()\n",
    "        time.sleep(1)\n",
    "        \n",
    "        sidos = driver.find_element(By.XPATH, '/html/body').find_elements(By.XPATH, '*')[-4]\n",
    "        for sido in tqdm.notebook.trange(2, 19, desc=\"시도별\"):\n",
    "            # 현재 시도 체크\n",
    "            ele_sido = sidos.find_element(By.XPATH, f'div[2]/div/table/tbody/tr[{sido}]')\n",
    "            sido_name = sidos.find_element(By.XPATH, f'div[2]/div/table/tbody/tr[{sido}]/td[3]/div').text\n",
    "            ele_sido.find_element(By.XPATH, 'td[1]/input').click()\n",
    "            time.sleep(0.5)\n",
    "\n",
    "            # 조회버튼 클릭\n",
    "            driver.find_element(By.XPATH, '//*[@id=\"btn_query\"]').click()\n",
    "            time.sleep(5)\n",
    "\n",
    "            # 표에 있는 html을 가져오고 이를 저장\n",
    "            try:\n",
    "                row = driver.find_element(By.XPATH, '//*[@id=\"grid_sheet\"]/tbody/tr[3]/td/div/div[1]/table/tbody')\n",
    "                soup = Soup(row.get_attribute('innerHTML'), \"html.parser\")\n",
    "                for row in [[td.text for td in row.findAll(\"td\")[1:]] for row in soup.findAll(\"tr\")[1:]]:\n",
    "                    df_result = pd.concat([df_result, pd.Series({\"순위\":row[0], \"지역\":sido_name, \"년도\":year, \"성별\":\"남성\", \"이름\":row[1], \"비율\":row[2], \"건수\":row[3]})], axis=1, ignore_index=True)\n",
    "            except:\n",
    "                pass\n",
    "\n",
    "            # 시도 옵션 클릭\n",
    "            opt_sido = driver.find_element(By.XPATH, '//*[@id=\"param_SidoCd\"]/div/table/tbody/tr/td[2]/span')\n",
    "            opt_sido.click()\n",
    "            time.sleep(1)\n",
    "\n",
    "            # 현재 시도 체크 해제\n",
    "            ele_sido = sidos.find_element(By.XPATH, f'div[2]/div/table/tbody/tr[{sido}]')\n",
    "            ele_sido.find_element(By.XPATH, 'td[1]/input').click()\n",
    "            time.sleep(0.5)\n",
    "            \n",
    "        # 현재 연도 결과를 csv 파일로 저장\n",
    "        file_name = f\"male_top_name_{year}.csv\"\n",
    "        df_result.T.to_csv(os.path.join(path_data_dir, file_name), index=False)\n",
    "        \n",
    "except Exception as e:\n",
    "    print(year, \"연도\", sido_name, \"중 오류 발생\")\n",
    "    print(\"오류 내용:\", e)\n"
   ]
  },
  {
   "cell_type": "code",
   "execution_count": 10,
   "metadata": {},
   "outputs": [],
   "source": [
    "df_total = pd.DataFrame()\n",
    "path_data_dir = \"data\"\n",
    "\n",
    "for y in range(2008, 2023):\n",
    "    file_name = f\"male_top_name_{y}.csv\"\n",
    "    \n",
    "    df_total = pd.concat([df_total, pd.read_csv(os.path.join(path_data_dir, file_name))])\n",
    "    \n",
    "\n",
    "df_total.to_csv(os.path.join(path_data_dir, \"male_top_name_2008_2022.csv\"), index=False)"
   ]
  },
  {
   "cell_type": "markdown",
   "metadata": {},
   "source": [
    "---"
   ]
  },
  {
   "cell_type": "markdown",
   "metadata": {},
   "source": [
    "### 상위 개명신고 이름 현황"
   ]
  },
  {
   "cell_type": "code",
   "execution_count": 3,
   "metadata": {},
   "outputs": [
    {
     "name": "stderr",
     "output_type": "stream",
     "text": [
      "C:\\Users\\user\\AppData\\Local\\Temp\\ipykernel_9204\\297749269.py:6: DeprecationWarning: executable_path has been deprecated, please pass in a Service object\n",
      "  driver = webdriver.Chrome(\"chromedriver.exe\", options=options)\n"
     ]
    },
    {
     "data": {
      "application/vnd.jupyter.widget-view+json": {
       "model_id": "3f944018e33746da8b9574f5047048f7",
       "version_major": 2,
       "version_minor": 0
      },
      "text/plain": [
       "연도별:   0%|          | 0/12 [00:00<?, ?it/s]"
      ]
     },
     "metadata": {},
     "output_type": "display_data"
    },
    {
     "data": {
      "application/vnd.jupyter.widget-view+json": {
       "model_id": "a3688a2d1b0742feae69207efb96fdf3",
       "version_major": 2,
       "version_minor": 0
      },
      "text/plain": [
       "시도별:   0%|          | 0/17 [00:00<?, ?it/s]"
      ]
     },
     "metadata": {},
     "output_type": "display_data"
    },
    {
     "ename": "KeyboardInterrupt",
     "evalue": "",
     "output_type": "error",
     "traceback": [
      "\u001b[1;31m---------------------------------------------------------------------------\u001b[0m",
      "\u001b[1;31mKeyboardInterrupt\u001b[0m                         Traceback (most recent call last)",
      "\u001b[1;32mc:\\Users\\user\\Downloads\\220707 크롤링 + 결과\\220706 crawling.ipynb Cell 9'\u001b[0m in \u001b[0;36m<cell line: 38>\u001b[1;34m()\u001b[0m\n\u001b[0;32m     <a href='vscode-notebook-cell:/c%3A/Users/user/Downloads/220707%20%ED%81%AC%EB%A1%A4%EB%A7%81%20%2B%20%EA%B2%B0%EA%B3%BC/220706%20crawling.ipynb#ch0000008?line=81'>82</a>\u001b[0m \u001b[39m# 조회버튼 클릭\u001b[39;00m\n\u001b[0;32m     <a href='vscode-notebook-cell:/c%3A/Users/user/Downloads/220707%20%ED%81%AC%EB%A1%A4%EB%A7%81%20%2B%20%EA%B2%B0%EA%B3%BC/220706%20crawling.ipynb#ch0000008?line=82'>83</a>\u001b[0m driver\u001b[39m.\u001b[39mfind_element(By\u001b[39m.\u001b[39mXPATH, \u001b[39m'\u001b[39m\u001b[39m//*[@id=\u001b[39m\u001b[39m\"\u001b[39m\u001b[39mbtn_query\u001b[39m\u001b[39m\"\u001b[39m\u001b[39m]\u001b[39m\u001b[39m'\u001b[39m)\u001b[39m.\u001b[39mclick()\n\u001b[1;32m---> <a href='vscode-notebook-cell:/c%3A/Users/user/Downloads/220707%20%ED%81%AC%EB%A1%A4%EB%A7%81%20%2B%20%EA%B2%B0%EA%B3%BC/220706%20crawling.ipynb#ch0000008?line=83'>84</a>\u001b[0m time\u001b[39m.\u001b[39;49msleep(\u001b[39m5\u001b[39;49m)\n\u001b[0;32m     <a href='vscode-notebook-cell:/c%3A/Users/user/Downloads/220707%20%ED%81%AC%EB%A1%A4%EB%A7%81%20%2B%20%EA%B2%B0%EA%B3%BC/220706%20crawling.ipynb#ch0000008?line=85'>86</a>\u001b[0m \u001b[39m# 표에 있는 html을 가져오고 이를 저장\u001b[39;00m\n\u001b[0;32m     <a href='vscode-notebook-cell:/c%3A/Users/user/Downloads/220707%20%ED%81%AC%EB%A1%A4%EB%A7%81%20%2B%20%EA%B2%B0%EA%B3%BC/220706%20crawling.ipynb#ch0000008?line=86'>87</a>\u001b[0m \u001b[39mtry\u001b[39;00m:\n",
      "\u001b[1;31mKeyboardInterrupt\u001b[0m: "
     ]
    }
   ],
   "source": [
    "# URL 및 옵션 설정\n",
    "url = \"https://stfamily.scourt.go.kr/st/StFrrStatcsView.do?pgmId=090000000062\"\n",
    "options = webdriver.ChromeOptions()\n",
    "options.add_argument('headless')\n",
    "\n",
    "driver = webdriver.Chrome(\"chromedriver.exe\", options=options)\n",
    "\n",
    "# 화면 진입\n",
    "driver.get(url)\n",
    "time.sleep(3)\n",
    "\n",
    "# iframe 탐색 및 이동\n",
    "iframe = driver.find_element(By.XPATH, '//*[@id=\"content\"]/div[2]/iframe')\n",
    "driver.switch_to.frame(iframe)\n",
    "\n",
    "# 조회유형 설정\n",
    "opt_kind = driver.find_element(By.XPATH, '//*[@id=\"param_MultiCandType_selector\"]/div/table/tbody/tr/td[2]')\n",
    "opt_kind.click()\n",
    "opt_kind_year = driver.find_element(By.XPATH, '//*[@id=\"param_MultiCandType_selector_elem_RowTR\"]')\n",
    "opt_kind_year.click()\n",
    "time.sleep(1)\n",
    "\n",
    "# 시작연도, 종료연도 설정\n",
    "opt_start_year = driver.find_element(By.XPATH, '//*[@id=\"param_MultiCandType_styear\"]/div/table/tbody/tr/td[2]/span')\n",
    "opt_end_year = driver.find_element(By.XPATH, '//*[@id=\"param_MultiCandType_edyear\"]/div/table/tbody/tr/td[2]/span')\n",
    "\n",
    "# 연도 설정. start_year 변수를 통해 시작할 연도 변경 가능\n",
    "year = 2023\n",
    "start_year = 2019\n",
    "\n",
    "# 저장할 폴더 생성\n",
    "path_data_dir = \"data\"\n",
    "\n",
    "if os.path.isdir(path_data_dir) == False:\n",
    "    os.mkdir(path_data_dir)\n",
    "sido_name = \"none\"\n",
    "\n",
    "try:\n",
    "    for i in tqdm.notebook.trange(1, 2022-2011+2, desc='연도별'):\n",
    "        # 연도 저장한 데이터프레임\n",
    "        df_result = pd.DataFrame()\n",
    "\n",
    "        # 현재연도 변경\n",
    "        year -= 1\n",
    "        \n",
    "        # 시작연도 선택\n",
    "        opt_start_year.click()\n",
    "        time.sleep(2)\n",
    "        ele_start_year = driver.find_elements(By.XPATH, '//*[@id=\"param_MultiCandType_styear_elem_RowTR\"]')[-i]\n",
    "        ele_start_year.click()\n",
    "        \n",
    "        # 종료연도 선택\n",
    "        opt_end_year.click()\n",
    "        time.sleep(2)\n",
    "        ele_end_year = driver.find_elements(By.XPATH, '//*[@id=\"param_MultiCandType_edyear_elem_RowTR\"]')[-i]\n",
    "        ele_end_year.click()\n",
    "\n",
    "        # 시작연도까지 이동하기\n",
    "        if year > start_year:\n",
    "            continue\n",
    "\n",
    "        # 성별 설정\n",
    "        opt_gender = driver.find_element(By.XPATH, '//*[@id=\"param_GenderCd\"]/div/table/tbody/tr/td[2]/span')\n",
    "        opt_gender.click()\n",
    "        time.sleep(2)\n",
    "        ele_gender = driver.find_element(By.XPATH, '/html/body').find_elements(By.XPATH, '*')[-1].find_element(By.XPATH, 'div[2]/div/table/tbody/tr[3]/td[1]/input')\n",
    "        ele_gender.click()\n",
    "\n",
    "        # 시도 옵션 클릭\n",
    "        opt_sido = driver.find_element(By.XPATH, '//*[@id=\"param_SidoCd\"]/div/table/tbody/tr/td[2]/span')\n",
    "        opt_sido.click()\n",
    "        time.sleep(1)\n",
    "        \n",
    "        sidos = driver.find_element(By.XPATH, '/html/body').find_elements(By.XPATH, '*')[-4]\n",
    "        for sido in tqdm.notebook.trange(2, 19, desc=\"시도별\"):\n",
    "            # 현재 시도 체크\n",
    "            ele_sido = sidos.find_element(By.XPATH, f'div[2]/div/table/tbody/tr[{sido}]')\n",
    "            sido_name = sidos.find_element(By.XPATH, f'div[2]/div/table/tbody/tr[{sido}]/td[3]/div').text\n",
    "            ele_sido.find_element(By.XPATH, 'td[1]/input').click()\n",
    "            time.sleep(0.5)\n",
    "\n",
    "            # 조회버튼 클릭\n",
    "            driver.find_element(By.XPATH, '//*[@id=\"btn_query\"]').click()\n",
    "            time.sleep(5)\n",
    "\n",
    "            # 표에 있는 html을 가져오고 이를 저장\n",
    "            try:\n",
    "                row = driver.find_element(By.XPATH, '//*[@id=\"grid_sheet\"]/tbody/tr[3]/td/div/div[1]/table/tbody')\n",
    "                soup = Soup(row.get_attribute('innerHTML'), \"html.parser\")\n",
    "                for row in [[td.text for td in row.findAll(\"td\")[1:]] for row in soup.findAll(\"tr\")[1:]]:\n",
    "                    df_result = pd.concat([df_result, pd.Series({\"순위\":row[0], \"지역\":sido_name, \"년도\":year, \"성별\":\"남성\", \"이름\":row[1], \"비율\":row[2], \"건수\":row[3]})], axis=1, ignore_index=True)\n",
    "            except:\n",
    "                pass\n",
    "\n",
    "            # 시도 옵션 클릭\n",
    "            opt_sido = driver.find_element(By.XPATH, '//*[@id=\"param_SidoCd\"]/div/table/tbody/tr/td[2]/span')\n",
    "            opt_sido.click()\n",
    "            time.sleep(1)\n",
    "\n",
    "            # 현재 시도 체크 해제\n",
    "            ele_sido = sidos.find_element(By.XPATH, f'div[2]/div/table/tbody/tr[{sido}]')\n",
    "            ele_sido.find_element(By.XPATH, 'td[1]/input').click()\n",
    "            time.sleep(0.5)\n",
    "            \n",
    "        # 현재 연도 결과를 csv 파일로 저장\n",
    "        file_name = f\"male_top_change_name_{year}.csv\"\n",
    "        df_result.T.to_csv(os.path.join(path_data_dir, file_name), index=False)\n",
    "        \n",
    "except Exception as e:\n",
    "    print(year, \"년\", sido_name, \"지역 크롤링 중 오류 발생\")\n",
    "    print(\"오류 내용:\", e)\n"
   ]
  },
  {
   "cell_type": "code",
   "execution_count": 9,
   "metadata": {},
   "outputs": [],
   "source": [
    "df_total = pd.DataFrame()\n",
    "path_data_dir = \"data\"\n",
    "\n",
    "for y in range(2011, 2023):\n",
    "    file_name = f\"male_top_change_name_{y}.csv\"\n",
    "    \n",
    "    df_total = pd.concat([df_total, pd.read_csv(os.path.join(path_data_dir, file_name))])\n",
    "    \n",
    "df_total.to_csv(os.path.join(path_data_dir, \"male_top_change_name_2011_2022.csv\"), index=False)"
   ]
  }
 ],
 "metadata": {
  "kernelspec": {
   "display_name": "Python 3.9.12 ('base')",
   "language": "python",
   "name": "python3"
  },
  "language_info": {
   "codemirror_mode": {
    "name": "ipython",
    "version": 3
   },
   "file_extension": ".py",
   "mimetype": "text/x-python",
   "name": "python",
   "nbconvert_exporter": "python",
   "pygments_lexer": "ipython3",
   "version": "3.9.12"
  },
  "orig_nbformat": 4,
  "vscode": {
   "interpreter": {
    "hash": "631926b96873d2007fbe5ba14401cac9ce99e5e76ded0bffc18be58f3fefa61b"
   }
  }
 },
 "nbformat": 4,
 "nbformat_minor": 2
}
